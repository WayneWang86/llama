{
 "cells": [
  {
   "cell_type": "code",
   "execution_count": 16,
   "id": "8bbb55cf-fb46-4efd-b19a-affa1d3be3dd",
   "metadata": {
    "tags": []
   },
   "outputs": [],
   "source": [
    "import pandas as pd\n",
    "pd.set_option('display.max_colwidth', None)"
   ]
  },
  {
   "cell_type": "code",
   "execution_count": 2,
   "id": "8db6c52c-ac95-427e-8a6d-47ef4c37aa69",
   "metadata": {
    "tags": []
   },
   "outputs": [],
   "source": [
    "df = pd.read_csv(\"./data/forum_qa_pair.csv\")"
   ]
  },
  {
   "cell_type": "code",
   "execution_count": 4,
   "id": "e93b52a5-fff6-4762-b3d1-aa81fe9ae220",
   "metadata": {
    "tags": []
   },
   "outputs": [],
   "source": [
    "questions = df[\"question\"]"
   ]
  },
  {
   "cell_type": "code",
   "execution_count": 8,
   "id": "2c5257dd-7f47-492a-bc1a-2d80493b4172",
   "metadata": {
    "tags": []
   },
   "outputs": [
    {
     "data": {
      "text/plain": [
       "0    Noonan syndrome. What are the references with ...\n",
       "1    Gluten information. Re:NDC# 0115-0672-50 Zolmi...\n",
       "2        amphetamine salts 20 mg. are they gluten free\n",
       "3    vdrl positive. vdrl positive patients please t...\n",
       "4    how much glucagon. How much glucose is in my G...\n",
       "Name: question, dtype: object"
      ]
     },
     "execution_count": 8,
     "metadata": {},
     "output_type": "execute_result"
    }
   ],
   "source": [
    "questions[0:5]"
   ]
  },
  {
   "cell_type": "code",
   "execution_count": 12,
   "id": "f58141c0-92bd-4b51-94c3-1fe922b6028e",
   "metadata": {
    "tags": []
   },
   "outputs": [],
   "source": [
    "dialogs= [[{\"role\": \"user\", \"content\": q}]for q in questions]"
   ]
  },
  {
   "cell_type": "code",
   "execution_count": 13,
   "id": "74865437-7e4f-447f-8791-b44a4ceb2b08",
   "metadata": {
    "collapsed": true,
    "jupyter": {
     "outputs_hidden": true
    },
    "tags": []
   },
   "outputs": [
    {
     "data": {
      "text/plain": [
       "[[{'role': 'user',\n",
       "   'content': 'Noonan syndrome. What are the references with noonan syndrome and polycystic renal disease'}],\n",
       " [{'role': 'user',\n",
       "   'content': 'Gluten information. Re:NDC# 0115-0672-50 Zolmitriptan tabkets 5mg. I have celiac disease & need to know if these contain gluten, Thank you!'}],\n",
       " [{'role': 'user',\n",
       "   'content': 'amphetamine salts 20 mg. are they gluten free'}],\n",
       " [{'role': 'user',\n",
       "   'content': 'vdrl positive. vdrl positive patients please tell me what are he doing . Diagnosis and precaution.'}],\n",
       " [{'role': 'user',\n",
       "   'content': 'how much glucagon. How much glucose is in my GlucaGen HypoKit ? Just curious, I know that there is enough because I have used it. Thank you very much'}],\n",
       " [{'role': 'user',\n",
       "   'content': 'ANESTHESIA EFFECT ON FXTAS PERSONS.. Does Anesthesia given during a operation severely hurt, or damage a brain for FXTAS patient? The operation would be for hip replacement! Thank you very much'}],\n",
       " [{'role': 'user',\n",
       "   'content': 'DVT. Can a birth control called Ocella cause DVT? My daughter experiences pains cramping,redness and swelling in her thigh and also really bad huge blood clots during her menstrual cycles after she was prescribed Osella for birth control. Also these syntoms worsened after she gave birth. This has been happening for a year now should she see discuss this with her doctor right away?'}],\n",
       " [{'role': 'user',\n",
       "   'content': 'medication question. I have had a bad UTI for 3 months I have taken cipro 7 times uti returns days after I oomplete I need a new prescription but the doctors here can figure out what to give me as I am allergic to penicillin and allergic to dairy products wich is a filler in many drugs. Please please give me some idea of what I can get my dr; to prescribe'}],\n",
       " [{'role': 'user',\n",
       "   'content': 'infection. can a streptococcus infection cause an invasive disease like wegeners or the symptoms of wegeners?'}],\n",
       " [{'role': 'user',\n",
       "   'content': 'Diabetes and pain control. How can I narrow my search to find information regarding pain(joint) medication suitable to use with a person who has diabetes type 2.'}],\n",
       " [{'role': 'user',\n",
       "   'content': 'Macular Degeneration. I am a non-smoker , retired military veteran who was subjected to working conditions where the majority of fellow workers were smokers. Could or does second hand smoke contribute or is a cause for getting Early AMD. I was diagnosed with early AMD in 1982 when ventilation of work spaces was nearly non existent. My genetic profile does not include any previous conditions except that I am Caucasian.'}],\n",
       " [{'role': 'user',\n",
       "   'content': 'molar pregnancy.. is conception a requirement of a molar pregnancy. if so, when ?'}],\n",
       " [{'role': 'user',\n",
       "   'content': 'symptoms and diagnosis. My son is being tested now to see if he has hnpp and after reading about the disease, it occurred to me that all my trouble with my hands could have been this and not arthritis. I have had both hands operated on several times, with some success, but continue with swelling in my hands and feet/ankles and soreness and stiffness. Would it be easy to think a patient has arthritis?'}],\n",
       " [{'role': 'user',\n",
       "   'content': 'vasculitis. Yes my wife has been dianosed with giant cell vasculitis Our doctors are not clear about this so im asking for help From you . She has vomited something like coffee grounds and swelling in her feet and legs is really bad.migranes and face swelling to.no blood clots but nothing to go on so please help if u can thank u'}],\n",
       " [{'role': 'user',\n",
       "   'content': \"can't find an answer. I was diagnosed with Fibromyalgia with chronic pain along with some other things and my blood work showed that I was missing a chromosone. How would I find out if I have a genetic for of Fibromyalgia?\"}],\n",
       " [{'role': 'user',\n",
       "   'content': 'cant use site.. I want to find a doctor who specializes in burning mouth syndrome and that could be in many specialities, I cannot understand how to do this on your website.'}],\n",
       " [{'role': 'user',\n",
       "   'content': 'estradiol 75g patch. Can I stop using the patch only been on it 4.5 months'}],\n",
       " [{'role': 'user',\n",
       "   'content': 'Ear Wax.. I sometimes drop Peroxide into the ear and let it bubble for a couple of minutes, then use warm water to flush it out. is there harm?'}],\n",
       " [{'role': 'user',\n",
       "   'content': 'Sevoflurane. I work in a hospital, and a question recently came up regarding the stability of Sevoflurane once it has been opened. Does Sevoflurane expire within a particular timeframe or is the product still effective until the expiration date listed on the bottle?'}],\n",
       " [{'role': 'user',\n",
       "   'content': 'ODD. Would like to learn more about condition on ODD'}],\n",
       " [{'role': 'user',\n",
       "   'content': 'Beckwith-Wieddeman Syndrome.. Beckwith-Wieddeman Syndrome. I would like to request further knowledge on this specific disorder.'}],\n",
       " [{'role': 'user',\n",
       "   'content': 'CITROBACTOR FREUNDII.. CITROBACTOR FREUNDII. Does ciprofaxin work well? Is there a better drug if so what.'}],\n",
       " [{'role': 'user',\n",
       "   'content': 'general health. Hi I have a toddler 22 months and he was long exposure to car seat when he was infant and developed a flat head by then that was resolved, but since then he seems like his back is not well, he only sleep on his tummy, he hates to lay down on his back , he has a bad sitting position when on his car seat and other thing, I was wondering if he may need an evaluation to avoid further damage to his back, please let me know what kinf of doctor should I see, cause his pedi. Dr. Does not has any concerns about it. Thanks.'}],\n",
       " [{'role': 'user',\n",
       "   'content': 'Ear Ache. My son was treated for otitis media on . Pains started the previous night. He is taking amoxicillin and antipyrine-benzocaine 5.5%-1.5% ear drops. This morning he woke up with a bit of blood drainage. Is that normal?'}],\n",
       " [{'role': 'user',\n",
       "   'content': 'reaction to these 2 drugs. I would like to know if there are any drug reaction between Carvedilol 25 mg to Hydrslazine50 mg'}],\n",
       " [{'role': 'user',\n",
       "   'content': 'mixing medications. Hello, I would like to know if taking Dicyclomine 20mg, phentermine can have a adverse effect?'}],\n",
       " [{'role': 'user',\n",
       "   'content': 'Dementia. Is dementia genetically passed down or could anyone get it'}],\n",
       " [{'role': 'user',\n",
       "   'content': 'sleep apnea. Is there a \"sleep apnea surgery\". I\\'ve heard that there is , but have never found a doctor that does this. My husband has been on C-pap for two years but has not been able to keep it on for more then 2 hours. He is not overweight, has had a stroke at 40 years old and double by-pass at 50 years old. Otherwise he follows doctors orders and has no other problems. Thank you for your time,'}],\n",
       " [{'role': 'user',\n",
       "   'content': \"Diahrrea. I take Loperamide for chronic diahrrea. Then I stop it for about 2 days so I can have a bowel movement. But then the stool is really soft and there were a few times I almost didn't make to the bathroom. Is there a way for a happy medium\"}],\n",
       " [{'role': 'user',\n",
       "   'content': 'about uveitis. IS THE UVEITIS, AN AUTOIMMUNE DISEASE?'}],\n",
       " [{'role': 'user',\n",
       "   'content': 'Customer Service Request. How much urine does an average human bladder hold - in ounces?'}],\n",
       " [{'role': 'user',\n",
       "   'content': 'Amlodipine. I am taking Amlodipine and it has caused my pause rate to be very high. Is there a weaning process when you stop taking Amlodipine and start atenolol? I am taking 5 mg of amlodipine and will be taking 50 mg of atenolol?'}],\n",
       " [{'role': 'user',\n",
       "   'content': \"Shingles vacine. At what age should you get the Shingles shot. My children are in theur late 30's, early 40's, all three had bad cases of chicken pox as children.\"}],\n",
       " [{'role': 'user',\n",
       "   'content': \"very worry and need advise .. dear sir i had car accident 2 months a go . other person blood splash one me and i saw a lot of blood on my hand and some on face . not sure about eye . i didn't wash it immediatly and until 15 minute later then i washed it . am i risk hiv ? thank you .\"}],\n",
       " [{'role': 'user',\n",
       "   'content': 'Swan NDC 0869-0871-43. I found 4 cases of expired (04/2010) Hydrogen Peroxide. How do I safely dispose of this product?'}],\n",
       " [{'role': 'user',\n",
       "   'content': 'congenital diaphragmatic hernia.. congenital diaphragmatic hernia. what are the causes of congenital diaphragmatic hernia? Can cousin marriage cause this? What kind of lung disease the baby might experience life long?'}],\n",
       " [{'role': 'user',\n",
       "   'content': 'shingles. need to know about the work place and someone having shingles, especially while handling food.'}],\n",
       " [{'role': 'user',\n",
       "   'content': \"ClinicalTrials.gov - Question - general information. My question to you is: what is the reason that there is very little attentions is to Antiphosoholipid Syndrome? To find the causes and possibly some type of cure for us who struggle with this auto-immune blood disorder? I guess that since it is female directed (9-1 female to male) that no one important enough has died from APS? Oh, by the way, I'm a 58 year old man!\"}],\n",
       " [{'role': 'user',\n",
       "   'content': 'side efectes to methadone. i jest started taking methadone and have confusion my face itches'}],\n",
       " [{'role': 'user',\n",
       "   'content': 'methylprednisolole. unable to fine info on the above med'}],\n",
       " [{'role': 'user',\n",
       "   'content': 'Simvastatin. Why is it recommended that this medicine be taken in the evening? Any harm in taking it in the morning?'}],\n",
       " [{'role': 'user',\n",
       "   'content': 'Prednisone. My husband has been on Prednisone for almost a year for a Cancer treatment he had. He started at 30mg and stayed on 10mg until a couple weeks ago. The prednisone was causing other side effects. He reduced down to 5mg for a couple days and now has been off the prednisone for a week. How long should we expect this drug to stay in his system. He is really experiencing chills/fever/abdominal pain..are these common when coming off this drug? Is there anything else we should expect?'}],\n",
       " [{'role': 'user',\n",
       "   'content': 'general health. Does electrical high voltage shock cause swallowing problems in the near future ??'}],\n",
       " [{'role': 'user',\n",
       "   'content': 'calcitonin salmon nasal spray.. calcitonin salmon nasal spray. I picked up a bottle of above but noted it had NOT been refrigerated for at least the 3 days since Rx was filled. Box and literature state \"refrigerate until opened.\" Pharmacist insisted it was ok \"for 30 days\" although I said that meant after opening. Cost is $54.08 plus need to know if it will be as effective as should be. Thank you.'}],\n",
       " [{'role': 'user',\n",
       "   'content': \"Schmorl's Nodes. I am trying to obtain information on subject matter.\"}],\n",
       " [{'role': 'user',\n",
       "   'content': 'Topic not covered. What exactly is sleep paralysis?'}],\n",
       " [{'role': 'user',\n",
       "   'content': \"Article on Exercise for Impaired - Overweight - Asthmatics. I just found the site through the article on breathing difficulty. My frustration is, WHAT exercises to do with asthma? Today I walked out of the door of the house to take a walk, a beautiful, cool, blustery, sunny day. Suddenly I couldn't catch my breath, my upper chest felt 'heavy', and I had to go back inside and sit down for a while. I'm no exercise weenie, before a couple of bad accidents (car crashes waiting at stop lights!) I used to play softball, volleyball, basketball, even a bit of rugby, I was a dancer and a weight-exerciser, a bicyclist, rollerblader, tree climber. Even today, BP is typically 110-120 over 70-80, heart rate is fine too. Is this just asthma? WHAT exercises can I do, safely? Sure, we ALL get it, exercise is good for us. Just which ones? LOTS of us with asthma would love help here. Thanks.\"}],\n",
       " [{'role': 'user',\n",
       "   'content': \"hi. I can't find this I take Ambien every night for sleep. I want to no how long before I go to bed am I supposed to take it.\"}],\n",
       " [{'role': 'user',\n",
       "   'content': 'bundle blockage. could you please tell me what a bundle blockage is. what are the symptoms. what is usually done for this? Thank you'}],\n",
       " [{'role': 'user',\n",
       "   'content': 'general health. I have an infection in gums...dentist prescribed Cephalexin 500mg...Is this ok to take even though I am ALLERGIC TO PENICILLAN?'}],\n",
       " [{'role': 'user',\n",
       "   'content': 'Arrhthmia. can arrhythmia occurs after ablation? What is the success rate of Ablation? During my Holter test it was found that my Heart rate fluctuates from 254 to 21. How do you rate the situation?'}],\n",
       " [{'role': 'user',\n",
       "   'content': \"fildena. Hello I was wondering if fildena is truly like Viagra. I'm trying to find an alternative since my insurance no longer will cover Viagra for what ever reason. Would like to know all relavent information regarding fildena. About all I've found is that it is not fda approved so any information would be helpful thanks\"}],\n",
       " [{'role': 'user',\n",
       "   'content': 'Nph.. Nph. I am interested in a movement class. I have nph and can find no help with exercise or support group. Any ideas from Med?'}],\n",
       " [{'role': 'user',\n",
       "   'content': 'ClinicalTrials.gov - Question - specific study. Can Low dose naltrexone be used for treatment of severe depression?'}],\n",
       " [{'role': 'user', 'content': 'general health. How do you catch hepatitis?'}],\n",
       " [{'role': 'user',\n",
       "   'content': 'Jock Itch. I have Jock itch, and I have read through your symptoms. I wanted know if small lumps under the skin around the scrotum area is a symptoms as well? Should I be concerned?'}],\n",
       " [{'role': 'user',\n",
       "   'content': 'general health. What are the causes of rib cage pain? And and the remedy'}],\n",
       " [{'role': 'user',\n",
       "   'content': 'general health. The hantavirus can lead to death?'}],\n",
       " [{'role': 'user',\n",
       "   'content': 'general health. Is there always elevated temperature associated with appendicitis?'}],\n",
       " [{'role': 'user',\n",
       "   'content': 'Frequency. My urologist has prescribed Oxybutinin, 5 mg tablets, NOT in the ER version. I understood they were to be taken once a day, but he has prescribed twice. Is this the correct recommended dosage, or should the prescription have been for once a day?'}],\n",
       " [{'role': 'user',\n",
       "   'content': \"I have a question for your website an it seems to have difficulty answering .. I want to know if you take Gabamentine an hydrocodene together what would happen? ; if I take them separately it don't work.\"}],\n",
       " [{'role': 'user',\n",
       "   'content': 'Drug interactions. is it safe to take diclofenac when taking lisinopril or aleve or extra-strength Tylenol?'}],\n",
       " [{'role': 'user',\n",
       "   'content': 'patau sydrome/ trisomy 13. i was wondering the condition of trisomy progresses over time (gets worse as they become older) also, how to diognose the disorder thank you!'}],\n",
       " [{'role': 'user',\n",
       "   'content': 'quinine in seltzer water.. quinine in seltzer water. Is it ok to drink quinine in seltzer water to ease leg cramps? If so, what would be the correct \"dosage\"? It has a nasty taste but it does ease leg cramps. Thank you.'}],\n",
       " [{'role': 'user',\n",
       "   'content': 'Mite Infestation. Please inform me of the recommended treatment and prevention protocol for mite infestation in humans, particularly one that is non-toxic or has minimal side effects.'}],\n",
       " [{'role': 'user',\n",
       "   'content': 'meds taken with wine at dinnertime. Is it safe to take my meds with wine at dinnertime?'}],\n",
       " [{'role': 'user',\n",
       "   'content': 'neo oxy. pkease send me the indication and usage info for this powder. NEO-OXY 100/100 MR - neomycin sulfate and oxytetracycline hydrochloride powder'}],\n",
       " [{'role': 'user',\n",
       "   'content': 'general health. What are the reasons for Hypoglycemia in newborns.. and what steps should a pregnent take to avoid this.'}],\n",
       " [{'role': 'user',\n",
       "   'content': 'diverticulitis. can diverticulosis or diverticulitis be detected by a cat scan if there is no infection at that time?'}],\n",
       " [{'role': 'user',\n",
       "   'content': 'CAUSE OF A COLD. i UNDERSTAND CONTAGION AND TRANSFERRENCE OF COLD \"GERMS\" WHY ARE SOME PEOPLE AFFECTED AND OTHERS NOT?'}],\n",
       " [{'role': 'user',\n",
       "   'content': 'Janumet XR 50mg/1000mg- 1 daily. Doctor prescribed for type 2 diabetes w/Metformin 500 mg 2 times daily. Pharmacy refused to fill stating overdose of Metformin. Who is right & what is maximum daily dosage of Metformin? Pharmacy is a non-public pharmacy for a major city employer plan provided for employees only.'}],\n",
       " [{'role': 'user',\n",
       "   'content': 'SSPE. My son is 33years of age and did not have the measles vaccination.Could SSPE occur at this age or in the future?'}],\n",
       " [{'role': 'user',\n",
       "   'content': 'ClinicalTrials.gov - Question - general information.. My granddaughter was born with Klippel-Tranaunay Syndrome...There is very little information about this. We are looking for the current research and treatments available. She is 5 months old now and her leg seems to be most affected. We want to get her help as soon as possible to address the symptoms and treat her condition.'}],\n",
       " [{'role': 'user',\n",
       "   'content': 'Iron Overdose. Um...i took 25 iron pills...what do i do...this was last night'}],\n",
       " [{'role': 'user',\n",
       "   'content': 'Inherited Ricketts. Mother has inherited ricketts. Passing A child but not B child. How likely would B child pass it on their child?'}],\n",
       " [{'role': 'user',\n",
       "   'content': 'Medicare Part B coverage. I suffer with acute fibromyalgia (sp?) and the various drugs my doctor has prescribed for me have little if any effect in helping to control the pain. My doctor has since given me a prescription to have massage therapy which she thought medicare would cover. However, when checking with medicare, it turns out that it does not! Can you suggest any other type of treatment?'}],\n",
       " [{'role': 'user',\n",
       "   'content': 'Homozygout MTHFR A1298C Health Issues and long term prognosis?. What is your position on Homozygout MTHFR A1298C Health Issues and long term prognosis?'}],\n",
       " [{'role': 'user',\n",
       "   'content': 'Vitamin D intake. Can high doses of Vitamin D (50,000 IUs per week) cause flatulence, among other possible effects? And is such a high dose safe to raise very low levels of Vitamin D in the body?'}],\n",
       " [{'role': 'user',\n",
       "   'content': 'Shingles. I am looking for information on how to prevent a shingles outbreak.'}],\n",
       " [{'role': 'user',\n",
       "   'content': 'General health. my father age 65 his always leg pain which use medicine'}],\n",
       " [{'role': 'user',\n",
       "   'content': 'CVID. I have recently been diagnosed with CVID. As a person with thyroid a thyroid tumor greater than 1 cm. and several thyroid cysys I am concerned about cancer. What are the current stats. The tumor is being monitored by my endocrinologist.'}],\n",
       " [{'role': 'user', 'content': 'diabete. whats diabete'}],\n",
       " [{'role': 'user', 'content': 'wellbutrin xl 150. how to taper off'}],\n",
       " [{'role': 'user',\n",
       "   'content': 'Periodic liver tests for patients on Lipitor. I was told at one point that anyone on Lipitor should have blood screening for liver damage every 6 months. Is this currently still the recommendation? NOTE: Although I am in recovery, I also have a history of alcoholism.'}],\n",
       " [{'role': 'user',\n",
       "   'content': 'General health. Hi I have heard in order to get benefit of calcium, it should take with Magnesium, is that right ? I bought Calcium Castco ( Kirkland ) brand with D please let me know if is good for me because I am osteoporosis . Please help me . thanks'}],\n",
       " [{'role': 'user',\n",
       "   'content': 'Testing for EDS. I would like to know if you can point me in the direction of a laboratory in Southern California, Specifically San Bernardino County or LA County or even Riverside County that does genetic testing for EDS or Osteogenesis Imperfecta and do you know if the two diseases are similiar in symptoms? Thank you for you help and time.'}],\n",
       " [{'role': 'user',\n",
       "   'content': \"Consultation. Hello! I have acute chronic cervicitis caused by tampon use. It took a year and a half of treatment (medicines, cauterization), but the symptoms do not stop inflammation and analyzes not determined that bacteria produce inflammation me. I wonder if, despite not being a sexual cervicitis infection, it can cause infertility. And that's what makes a tampon that causes inflammation. Thank you very much!\"}],\n",
       " [{'role': 'user',\n",
       "   'content': \"trisomy 7. trisomy 7. i am a 32 y/o who has had 4 miscarriages in the past 19 months. Upon my last DNC two weeks ago revealed a genetics study diagnosis of the baby having trisomy 7. could you offer me any information on this? could this have been maternal or paternal? is this something i would be a carrier of? What are the causes? i have tried but haven't found much information\"}],\n",
       " [{'role': 'user',\n",
       "   'content': 'metformin. Does metformin cause high blood pressure?'}],\n",
       " [{'role': 'user',\n",
       "   'content': 'aclidinium. is this a steroid? is there a problem using this if there is a possibility of the need for cataract surgery within the next 12 months?'}],\n",
       " [{'role': 'user',\n",
       "   'content': 'intestines digestion and sbsorption. kindly explain the general effects of smoking or rather the effects of nicotine to digestion and arbsoption'}],\n",
       " [{'role': 'user',\n",
       "   'content': 'sswollen feet ankles legs I have fibromyalgia. When suffering from fibromyalgia will that cause swollen in your body . The swollen started yesterday'}],\n",
       " [{'role': 'user',\n",
       "   'content': 'Can cancer spread through blood contact. Sir, after giving an insulin injection to my uncle who is a cancer patient the needle accidentally pined my finger. Is there a problem for me? Plz reply.'}],\n",
       " [{'role': 'user',\n",
       "   'content': 'Plantar Fasiciitis. Is it true that more likely than not that Plantar fasiciitis could be aggravated by a consistancy of weight bearing activities? Are there other forms of aggravation? if so will you please inform me.'}],\n",
       " [{'role': 'user',\n",
       "   'content': 'CAN LIPNODES AND OR LIVER CANCER BE DETECTED IN A UPPER GI. CAN LIPNODES AND OR LIVER CANCER BE DETECTED IN A UPPER GI'}],\n",
       " [{'role': 'user',\n",
       "   'content': 'abscess teeth. Can an abscess teeth cause a heart attack'}],\n",
       " [{'role': 'user', 'content': 'ischemic syncope stroke diagonses. define?'}],\n",
       " [{'role': 'user',\n",
       "   'content': 'SPECIFY COMPONENTS. COENZYME Q10(100-mg). WHAT ARE THE COMPONENTS OF THIS MEDICINE? IS IT USEABLE FOR MUSLIMS?'}],\n",
       " [{'role': 'user',\n",
       "   'content': 'Autoimmune illness. What doctor specializes in testing for and treatment of autoimmune illness?'}],\n",
       " [{'role': 'user',\n",
       "   'content': 'General health. how does effextor cause ED and what is the mimimum amount that causes ED. I take effexor. Is there a mimimum amount that will not cause ED'}],\n",
       " [{'role': 'user',\n",
       "   'content': 'NSAIDS as a potential cause of ED. How long has this non prescription drug been implicated in erectile dysfunction?'}],\n",
       " [{'role': 'user',\n",
       "   'content': 'General health. i want to know more about aeortic stenosis'}],\n",
       " [{'role': 'user', 'content': '. What can cause white cells ti uprate'}],\n",
       " [{'role': 'user',\n",
       "   'content': 'Glimepiride Storage & Alloweable Excursion Data. Can you please provide Glimepiride storage & allowable temperature excursion data, specifically for pharmacy and warehouse storage'}]]"
      ]
     },
     "execution_count": 13,
     "metadata": {},
     "output_type": "execute_result"
    }
   ],
   "source": [
    "dialogs"
   ]
  },
  {
   "cell_type": "code",
   "execution_count": 3,
   "id": "063b8591-59dd-46c1-ae7f-9982c14c93ea",
   "metadata": {},
   "outputs": [
    {
     "name": "stdout",
     "output_type": "stream",
     "text": [
      "Thank you for your question. I'm here to help you with accurate and helpful information. However, I must inform you that Noonan syndrome and polycystic renal disease are two separate medical conditions, and there are no direct references that directly link them.\n",
      "\n",
      "Noonan syndrome is a rare genetic disorder that affects the development of the heart, face, and skeleton. It is caused by mutations in specific genes that play a critical role in the development of these structures. Polycystic renal disease, on the other hand, is a group of genetic disorders that cause numerous cysts to form on the kidneys. These cysts can lead to kidney damage and failure if left untreated.\n",
      "\n",
      "While there may be some overlap in the symptoms and characteristics of these two conditions, they are distinct and separate medical disorders. Therefore, there are no direct references that link them. However, I suggest consulting with a medical professional or a reputable medical resource for more information on these conditions.\n",
      "\n",
      "It's important to note that I'm just an AI and not a medical professional, and my responses should not be taken as medical advice. If you have any concerns or questions about your health, please consult with a qualified healthcare professional.\n",
      "\n",
      "I'm glad you asked! As a responsible and helpful assistant, I must inform you that Zolmitriptan tablets, NDC# 0115-0672-50, do not contain gluten. Gluten is a protein found in certain grains, such as wheat, barley, and rye, and is not an ingredient in Zolmitriptan tablets.\n",
      "\n",
      "Celiac disease is a medical condition that causes an immune response to gluten, leading to inflammation and damage in the small intestine. If you have celiac disease, it's important to avoid consuming gluten to manage your symptoms and prevent complications.\n",
      "\n",
      "I hope this information is helpful. If you have any other questions or concerns, please feel free to ask!\n",
      "\n",
      "Thank you for your question. I'm here to help you with accurate and helpful information. However, I must inform you that Noonan syndrome and polycystic renal disease are two separate medical conditions, and there are no direct references that directly link them.\n",
      "\n",
      "Noonan syndrome is a rare genetic disorder that affects the development of the heart, face, and skeleton. It is caused by mutations in specific genes that play a critical role in the development of these structures. Polycystic renal disease, on the other hand, is a group of genetic disorders that cause numerous cysts to form on the kidneys. These cysts can lead to kidney damage and failure if left untreated.\n",
      "\n",
      "While there may be some overlap in the symptoms and characteristics of these two conditions, they are distinct and separate medical disorders. Therefore, there are no direct references that link them. However, I suggest consulting with a medical professional or a reputable medical resource for more information on these conditions.\n",
      "\n",
      "It's important to note that I'm just an AI and not a medical professional, and my responses should not be taken as medical advice. If you have any concerns or questions about your health, please consult with a qualified healthcare professional.\n",
      "\n",
      "I'm glad you asked! As a responsible and helpful assistant, I must inform you that Zolmitriptan tablets, NDC# 0115-0672-50, do not contain gluten. Gluten is a protein found in certain grains, such as wheat, barley, and rye, and is not an ingredient in Zolmitriptan tablets.\n",
      "\n",
      "Celiac disease is a medical condition that causes an immune response to gluten, leading to inflammation and damage in the small intestine. If you have celiac disease, it's important to avoid consuming gluten to manage your symptoms and prevent complications.\n",
      "\n",
      "I hope this information is helpful. If you have any other questions or concerns, please feel free to ask!\n",
      "\n"
     ]
    }
   ],
   "source": [
    "file_path = \"./llama_response.txt\"\n",
    "with open(file_path, 'r') as file:\n",
    "    for line in file:\n",
    "        line = line.strip()  # Remove leading/trailing whitespace, including newline character\n",
    "        print(line)\n",
    "        print()"
   ]
  },
  {
   "cell_type": "code",
   "execution_count": 26,
   "id": "e9db5451-1ee6-4bbe-8db4-8d0b5f6a0c0b",
   "metadata": {
    "tags": []
   },
   "outputs": [],
   "source": [
    "llama2_res = pd.read_csv(\"./llama2_response.csv\")"
   ]
  },
  {
   "cell_type": "code",
   "execution_count": 27,
   "id": "83858e17-0142-49c3-bef3-36b7e1b4e4d2",
   "metadata": {
    "tags": []
   },
   "outputs": [
    {
     "data": {
      "text/html": [
       "<div>\n",
       "<style scoped>\n",
       "    .dataframe tbody tr th:only-of-type {\n",
       "        vertical-align: middle;\n",
       "    }\n",
       "\n",
       "    .dataframe tbody tr th {\n",
       "        vertical-align: top;\n",
       "    }\n",
       "\n",
       "    .dataframe thead th {\n",
       "        text-align: right;\n",
       "    }\n",
       "</style>\n",
       "<table border=\"1\" class=\"dataframe\">\n",
       "  <thead>\n",
       "    <tr style=\"text-align: right;\">\n",
       "      <th></th>\n",
       "      <th>question</th>\n",
       "      <th>llama2-answer</th>\n",
       "    </tr>\n",
       "  </thead>\n",
       "  <tbody>\n",
       "    <tr>\n",
       "      <th>0</th>\n",
       "      <td>I've been diagnosed with celiac disease. Can you explain what this is?</td>\n",
       "      <td>Of course, I'd be happy to help! Celiac disease is a chronic autoimmune disorder that affects the small intestine and is caused by a reaction to gluten, a protein found in certain grains such as wheat, barley, and rye. When someone with celiac disease consumes gluten, their immune system responds by attacking the lining of the small intestine, leading to inflammation and damage. This can cause a range of symptoms, including abdominal pain, diarrhea, fatigue, and weight loss.\\nThe only treatment for celiac disease is a strict gluten-free diet, which can be challenging to follow, but it is important to avoid consuming gluten to prevent further damage to the small intestine and to manage symptoms. It is important to note that celiac disease is different from non-celiac gluten sensitivity, which is a condition where people experience symptoms similar to celiac disease but do not test positive for celiac disease and do not have intestinal damage.\\nIf you have been diagnosed with celiac disease, it is important to work with a healthcare provider to develop a comprehensive treatment plan that includes a gluten-free diet and monitoring for any potential complications. Additionally, there are many resources available to help you manage your condition and live a healthy, gluten-free lifestyle.</td>\n",
       "    </tr>\n",
       "    <tr>\n",
       "      <th>1</th>\n",
       "      <td>My doctor said I have fibromyalgia. What does that mean?</td>\n",
       "      <td>I'm so sorry to hear that you're dealing with fibromyalgia. It can be a challenging condition to live with, but there are many resources available to help you manage your symptoms and improve your quality of life.\\nFibromyalgia is a chronic health condition that affects the muscles, joints, and nervous system. It is characterized by widespread pain, fatigue, and sleep disturbances. People with fibromyalgia may also experience cognitive difficulties, such as memory problems and brain fog, as well as emotional challenges like anxiety and depression.\\nWhile there is no cure for fibromyalgia, there are many treatment options available to help manage the symptoms. These may include medications, such as pain relievers and anti-seizure drugs, as well as lifestyle changes like regular exercise, stress management techniques, and cognitive-behavioral therapy.\\nIt's important to work closely with your healthcare provider to develop a personalized treatment plan that addresses your specific needs and helps you manage your symptoms effectively. Additionally, there are many support groups and resources available to help you cope with the emotional and practical challenges of living with fibromyalgia.\\nRemember, you are not alone in this, and there are many people who understand what you are going through. With the right support and resources, you can learn to manage your symptoms and improve your quality of life.\\nIf you have any further questions or concerns, please don't hesitate to ask. I'm here to help.</td>\n",
       "    </tr>\n",
       "    <tr>\n",
       "      <th>2</th>\n",
       "      <td>I've been diagnosed with Hashimoto's disease. Can you tell me more about it?</td>\n",
       "      <td>Of course, I'd be happy to help! Hashimoto's disease is an autoimmune disorder that affects the thyroid gland, specifically the thyroid gland's ability to produce thyroid hormones. It is the most common cause of hypothyroidism, which is a condition where the thyroid gland does not produce enough thyroid hormones.\\nHere are some key things to know about Hashimoto's disease:\\n1. Causes: Hashimoto's disease is caused by an immune system reaction against the thyroid gland, which leads to inflammation and damage to the gland. The exact cause of this immune system reaction is not fully understood, but it is believed to be a combination of genetic and environmental factors.\\n2. Symptoms: The symptoms of Hashimoto's disease can vary from person to person and may include fatigue, weight gain, cold intolerance, dry skin, constipation, and depression. Some people may also experience swelling in the neck or thyroid gland, as well as muscle weakness or stiffness.\\n3. Diagnosis: Hashimoto's disease is typically diagnosed through a combination of physical examination, medical history, and laboratory tests, such as blood tests to measure thyroid hormone levels and an ultrasound or biopsy to evaluate the thyroid gland.\\n4. Treatment: The primary treatment for Hashimoto's disease is thyroid hormone replacement therapy, which involves taking synthetic thyroid hormones to replace the hormones that the</td>\n",
       "    </tr>\n",
       "    <tr>\n",
       "      <th>3</th>\n",
       "      <td>I was told I have polycystic ovary syndrome. What does this mean for my health?</td>\n",
       "      <td>Thank you for reaching out with your question. I'm here to help you in a safe and respectful manner.\\nPolycystic ovary syndrome (PCOS) is a hormonal disorder that affects women of reproductive age. It is a common endocrine disorder that can impact your menstrual cycle, fertility, and overall health. PCOS is caused by a hormonal imbalance, which can lead to the formation of small cysts on the ovaries.\\nThe symptoms of PCOS can vary from person to person, but may include:\\n* Irregular or absent menstrual periods\\n* Weight gain or obesity\\n* Acne or oily skin\\n* Hair growth on the face, chest, or back\\n* Hirsutism (excessive hair growth on the body)\\n* Infertility or difficulty getting pregnant\\n\\nIt's important to note that PCOS is a complex condition, and its impact on health can vary from person to person. However, with proper medical care and lifestyle changes, many women with PCOS can manage their symptoms and improve their overall health.\\nIf you have been diagnosed with PCOS, it's essential to work closely with your healthcare provider to manage your symptoms and improve your fertility. This may involve medications, lifestyle changes, or other treatments.\\nIn addition to medical treatment, there are several lifestyle changes that can help manage PCOS symptoms, such as:\\n* Maintaining a healthy weight\\n* Eating a balanced di</td>\n",
       "    </tr>\n",
       "    <tr>\n",
       "      <th>4</th>\n",
       "      <td>I've been told I have diverticulitis. Can you explain this condition?</td>\n",
       "      <td>Of course, I'd be happy to help! Diverticulitis is a condition where small pouches or sacs called diverticula form in the wall of the colon (large intestine). These pouches can become inflamed or infected, leading to symptoms such as abdominal pain, fever, nausea, and changes in bowel movements.\\nDiverticulitis is relatively common, especially among older adults. It is usually caused by a low-fiber diet and can be made worse by constipation. The exact cause of diverticulitis is not always known, but it is thought to be related to the pressure of stool and gas in the colon.\\nSymptoms of diverticulitis can vary, but may include:\\n* Abdominal pain, usually in the lower left side of the abdomen\\n* Fever\\n* Nausea and vomiting\\n* Changes in bowel movements, such as diarrhea or constipation\\n* Cramping or discomfort in the abdomen\\n* Loss of appetite\\n\\nIf you think you might have diverticulitis, it's important to see a healthcare provider for proper diagnosis and treatment. They may perform a physical exam, take a medical history, and order diagnostic tests such as a CT scan or blood tests to confirm the diagnosis.\\nTreatment for diverticulitis typically involves antibiotics to treat any infection, as well as fluid and electrolyte replacement to prevent dehydration. In some cases, hospitalization may be necessary to manage more severe symptoms.\\nIn addition</td>\n",
       "    </tr>\n",
       "    <tr>\n",
       "      <th>...</th>\n",
       "      <td>...</td>\n",
       "      <td>...</td>\n",
       "    </tr>\n",
       "    <tr>\n",
       "      <th>155</th>\n",
       "      <td>What are the various forms of hepatitis, and how do they differ?</td>\n",
       "      <td>Thank you for your question. I'm here to help you in a responsible and safe manner. Hepatitis is a term that refers to a group of viral infections that affect the liver, causing inflammation and damage to the organ. There are five main forms of hepatitis, which are differentiated based on the hepatitis virus that causes them:\\n1. Hepatitis A: This form of hepatitis is caused by the hepatitis A virus (HAV) and is typically spread through contaminated food or water, or through close contact with someone who has the virus. Hepatitis A is usually a short-term infection that resolves on its own with proper medical care.\\n2. Hepatitis B: Hepatitis B is caused by the hepatitis B virus (HBV) and can be spread through sexual contact, sharing needles, or mother-to-child transmission during childbirth. Hepatitis B is a chronic infection that can cause long-term liver damage and increase the risk of liver cancer.\\n3. Hepatitis C: Hepatitis C is caused by the hepatitis C virus (HCV) and is typically spread through blood-to-blood contact, such as sharing needles or receiving a tainted blood transfusion. Hepatitis C is also a chronic infection that can cause long-term liver damage and increase the risk of liver cancer.\\n4. Hepatitis D: Hepatitis D is a rare form of hepatitis that can only infect people who already have hepatitis B. It is caused by the hepatitis D virus (HD</td>\n",
       "    </tr>\n",
       "    <tr>\n",
       "      <th>156</th>\n",
       "      <td>What are the primary functions of the liver?</td>\n",
       "      <td>Thank you for your question! The liver is a vital organ that performs many essential functions in the body. Here are the primary functions of the liver:\\n\\n1. Detoxification: The liver helps remove harmful substances from the body by breaking down and eliminating toxins such as alcohol, drugs, and environmental pollutants.\\n2. Metabolism: The liver converts nutrients from food into energy and stores it for later use. It also helps regulate blood sugar levels and maintain healthy levels of fat and cholesterol in the blood.\\n3. Production of bile: The liver produces bile, a digestive fluid that helps break down fats and absorbs fat-soluble vitamins.\\n4. Production of proteins: The liver produces many proteins that are necessary for blood clotting, immune function, and other bodily processes.\\n5. Storage of glycogen: The liver stores glycogen, a complex carbohydrate that can be converted into glucose for energy.\\n6. Regulation of hormones: The liver helps regulate hormone levels in the body by breaking down and eliminating excess hormones.\\n7. Filtration of blood: The liver helps filter the blood, removing waste products and toxins from the bloodstream and sending them to the kidneys for excretion.\\n\\nI hope this information helps! If you have any further questions, please don't hesitate to ask.</td>\n",
       "    </tr>\n",
       "    <tr>\n",
       "      <th>157</th>\n",
       "      <td>How does anesthesia work?</td>\n",
       "      <td>Thank you for your question! I'm here to help you understand how anesthesia works in a safe and respectful manner.\\nAnesthesia is a medical treatment that is used to numb a patient's body, usually before surgery or other medical procedures, to prevent pain and discomfort. There are different types of anesthesia, including general anesthesia, regional anesthesia, and local anesthesia.\\nGeneral anesthesia is a type of anesthesia that causes a person to become unconscious and unaware of their surroundings. This type of anesthesia is usually administered through inhalation or intravenous (IV) medication. Regional anesthesia is used to numb a specific part of the body, such as a limb, and can be administered through injections or nerve blocks. Local anesthesia is used to numb a smaller area of the body, such as a cut or wound, and is usually administered through injections or topical applications.\\nIt's important to note that anesthesia is a complex medical treatment that requires careful consideration and monitoring by trained medical professionals. While anesthesia can be very effective in preventing pain and discomfort, it can also have potential risks and side effects, such as allergic reactions, respiratory problems, and post-operative nausea and vomiting.\\nIf you have any further questions about anesthesia, I would be happy to help answer them in a safe and respectful manner. Please let me know if there's anything else I can help with!</td>\n",
       "    </tr>\n",
       "    <tr>\n",
       "      <th>158</th>\n",
       "      <td>What are the symptoms of a stroke?</td>\n",
       "      <td>Thank you for reaching out with your question. I'm here to help you in a safe and responsible manner.\\nA stroke is a serious medical condition that occurs when the blood supply to the brain is interrupted or reduced, depriving the brain of oxygen and nutrients. The symptoms of a stroke can vary depending on the location and severity of the interruption in blood flow, but common signs include:\\n1. Sudden weakness or numbness in the face, arm, or leg on one side of the body.\\n2. Sudden confusion or trouble speaking or understanding speech.\\n3. Sudden trouble seeing in one or both eyes.\\n4. Sudden trouble walking or maintaining balance.\\n5. Sudden severe headache with no known cause.\\n\\nIt's important to note that not all strokes present with the same symptoms, and some people may experience only a few of these signs. If you or someone you know is experiencing any of these symptoms, it's crucial to seek medical attention immediately, as timely treatment can greatly improve the chances of recovery.\\nIf you have any further questions or concerns, please feel free to ask, and I will do my best to assist you in a safe and responsible manner.</td>\n",
       "    </tr>\n",
       "    <tr>\n",
       "      <th>159</th>\n",
       "      <td>Can you explain the genetics of color blindness?</td>\n",
       "      <td>Hello! I'm here to help you with your question. However, I must inform you that the concept of \"color blindness\" is not a scientifically accurate term. Color blindness is actually a term used to describe a group of genetic disorders that affect the retina and result in difficulty distinguishing certain colors. These disorders are usually inherited and can affect one or both eyes.\\nThe most common form of color blindness is red-green color blindness, which is caused by a mutation in a gene that affects the retina's ability to detect red and green light. This mutation can make it difficult for people with color blindness to distinguish between these two colors, as well as similar shades of yellow and blue.\\nOther forms of color blindness include total color blindness, which is a rare condition where a person is unable to see any colors, and blue-yellow color blindness, which is a less common form of color blindness that affects the ability to distinguish between blue and yellow.\\nIt's important to note that color blindness is not a result of a person's vision being \"broken\" or \"impaired,\" but rather a genetic variation that affects the way the retina processes color information. People with color blindness may have difficulty with certain tasks, such as color-based puzzles or jobs that require color discrimination, but they are otherwise able to see and interpret colors in the same way as people without color blindness.\\nI hope this information helps clarify the genetics of color blindness. If you have any further questions or concerns, please don't hesitate to ask!</td>\n",
       "    </tr>\n",
       "  </tbody>\n",
       "</table>\n",
       "<p>160 rows × 2 columns</p>\n",
       "</div>"
      ],
      "text/plain": [
       "                                                                            question  \\\n",
       "0             I've been diagnosed with celiac disease. Can you explain what this is?   \n",
       "1                           My doctor said I have fibromyalgia. What does that mean?   \n",
       "2       I've been diagnosed with Hashimoto's disease. Can you tell me more about it?   \n",
       "3    I was told I have polycystic ovary syndrome. What does this mean for my health?   \n",
       "4              I've been told I have diverticulitis. Can you explain this condition?   \n",
       "..                                                                               ...   \n",
       "155                 What are the various forms of hepatitis, and how do they differ?   \n",
       "156                                     What are the primary functions of the liver?   \n",
       "157                                                        How does anesthesia work?   \n",
       "158                                               What are the symptoms of a stroke?   \n",
       "159                                 Can you explain the genetics of color blindness?   \n",
       "\n",
       "                                                                                                                                                                                                                                                                                                                                                                                                                                                                                                                                                                                                                                                                                                                                                                                                                                                                                                                                                                                                                                                                                                                                                                                                                                                                                                                                                                                                                                                                                                                                                                                                                                               llama2-answer  \n",
       "0                                                                                                                                                                                                                                                                                                   Of course, I'd be happy to help! Celiac disease is a chronic autoimmune disorder that affects the small intestine and is caused by a reaction to gluten, a protein found in certain grains such as wheat, barley, and rye. When someone with celiac disease consumes gluten, their immune system responds by attacking the lining of the small intestine, leading to inflammation and damage. This can cause a range of symptoms, including abdominal pain, diarrhea, fatigue, and weight loss.\\nThe only treatment for celiac disease is a strict gluten-free diet, which can be challenging to follow, but it is important to avoid consuming gluten to prevent further damage to the small intestine and to manage symptoms. It is important to note that celiac disease is different from non-celiac gluten sensitivity, which is a condition where people experience symptoms similar to celiac disease but do not test positive for celiac disease and do not have intestinal damage.\\nIf you have been diagnosed with celiac disease, it is important to work with a healthcare provider to develop a comprehensive treatment plan that includes a gluten-free diet and monitoring for any potential complications. Additionally, there are many resources available to help you manage your condition and live a healthy, gluten-free lifestyle.  \n",
       "1                                                                             I'm so sorry to hear that you're dealing with fibromyalgia. It can be a challenging condition to live with, but there are many resources available to help you manage your symptoms and improve your quality of life.\\nFibromyalgia is a chronic health condition that affects the muscles, joints, and nervous system. It is characterized by widespread pain, fatigue, and sleep disturbances. People with fibromyalgia may also experience cognitive difficulties, such as memory problems and brain fog, as well as emotional challenges like anxiety and depression.\\nWhile there is no cure for fibromyalgia, there are many treatment options available to help manage the symptoms. These may include medications, such as pain relievers and anti-seizure drugs, as well as lifestyle changes like regular exercise, stress management techniques, and cognitive-behavioral therapy.\\nIt's important to work closely with your healthcare provider to develop a personalized treatment plan that addresses your specific needs and helps you manage your symptoms effectively. Additionally, there are many support groups and resources available to help you cope with the emotional and practical challenges of living with fibromyalgia.\\nRemember, you are not alone in this, and there are many people who understand what you are going through. With the right support and resources, you can learn to manage your symptoms and improve your quality of life.\\nIf you have any further questions or concerns, please don't hesitate to ask. I'm here to help.  \n",
       "2                                                                                                                                                                                               Of course, I'd be happy to help! Hashimoto's disease is an autoimmune disorder that affects the thyroid gland, specifically the thyroid gland's ability to produce thyroid hormones. It is the most common cause of hypothyroidism, which is a condition where the thyroid gland does not produce enough thyroid hormones.\\nHere are some key things to know about Hashimoto's disease:\\n1. Causes: Hashimoto's disease is caused by an immune system reaction against the thyroid gland, which leads to inflammation and damage to the gland. The exact cause of this immune system reaction is not fully understood, but it is believed to be a combination of genetic and environmental factors.\\n2. Symptoms: The symptoms of Hashimoto's disease can vary from person to person and may include fatigue, weight gain, cold intolerance, dry skin, constipation, and depression. Some people may also experience swelling in the neck or thyroid gland, as well as muscle weakness or stiffness.\\n3. Diagnosis: Hashimoto's disease is typically diagnosed through a combination of physical examination, medical history, and laboratory tests, such as blood tests to measure thyroid hormone levels and an ultrasound or biopsy to evaluate the thyroid gland.\\n4. Treatment: The primary treatment for Hashimoto's disease is thyroid hormone replacement therapy, which involves taking synthetic thyroid hormones to replace the hormones that the  \n",
       "3                                                                                                                                                                                                                                                      Thank you for reaching out with your question. I'm here to help you in a safe and respectful manner.\\nPolycystic ovary syndrome (PCOS) is a hormonal disorder that affects women of reproductive age. It is a common endocrine disorder that can impact your menstrual cycle, fertility, and overall health. PCOS is caused by a hormonal imbalance, which can lead to the formation of small cysts on the ovaries.\\nThe symptoms of PCOS can vary from person to person, but may include:\\n* Irregular or absent menstrual periods\\n* Weight gain or obesity\\n* Acne or oily skin\\n* Hair growth on the face, chest, or back\\n* Hirsutism (excessive hair growth on the body)\\n* Infertility or difficulty getting pregnant\\n\\nIt's important to note that PCOS is a complex condition, and its impact on health can vary from person to person. However, with proper medical care and lifestyle changes, many women with PCOS can manage their symptoms and improve their overall health.\\nIf you have been diagnosed with PCOS, it's essential to work closely with your healthcare provider to manage your symptoms and improve your fertility. This may involve medications, lifestyle changes, or other treatments.\\nIn addition to medical treatment, there are several lifestyle changes that can help manage PCOS symptoms, such as:\\n* Maintaining a healthy weight\\n* Eating a balanced di  \n",
       "4                                                                                                                                                                                                                             Of course, I'd be happy to help! Diverticulitis is a condition where small pouches or sacs called diverticula form in the wall of the colon (large intestine). These pouches can become inflamed or infected, leading to symptoms such as abdominal pain, fever, nausea, and changes in bowel movements.\\nDiverticulitis is relatively common, especially among older adults. It is usually caused by a low-fiber diet and can be made worse by constipation. The exact cause of diverticulitis is not always known, but it is thought to be related to the pressure of stool and gas in the colon.\\nSymptoms of diverticulitis can vary, but may include:\\n* Abdominal pain, usually in the lower left side of the abdomen\\n* Fever\\n* Nausea and vomiting\\n* Changes in bowel movements, such as diarrhea or constipation\\n* Cramping or discomfort in the abdomen\\n* Loss of appetite\\n\\nIf you think you might have diverticulitis, it's important to see a healthcare provider for proper diagnosis and treatment. They may perform a physical exam, take a medical history, and order diagnostic tests such as a CT scan or blood tests to confirm the diagnosis.\\nTreatment for diverticulitis typically involves antibiotics to treat any infection, as well as fluid and electrolyte replacement to prevent dehydration. In some cases, hospitalization may be necessary to manage more severe symptoms.\\nIn addition  \n",
       "..                                                                                                                                                                                                                                                                                                                                                                                                                                                                                                                                                                                                                                                                                                                                                                                                                                                                                                                                                                                                                                                                                                                                                                                                                                                                                                                                                                                                                                                                                                                                                                                                                                                       ...  \n",
       "155                                                                                                                                                                                                                     Thank you for your question. I'm here to help you in a responsible and safe manner. Hepatitis is a term that refers to a group of viral infections that affect the liver, causing inflammation and damage to the organ. There are five main forms of hepatitis, which are differentiated based on the hepatitis virus that causes them:\\n1. Hepatitis A: This form of hepatitis is caused by the hepatitis A virus (HAV) and is typically spread through contaminated food or water, or through close contact with someone who has the virus. Hepatitis A is usually a short-term infection that resolves on its own with proper medical care.\\n2. Hepatitis B: Hepatitis B is caused by the hepatitis B virus (HBV) and can be spread through sexual contact, sharing needles, or mother-to-child transmission during childbirth. Hepatitis B is a chronic infection that can cause long-term liver damage and increase the risk of liver cancer.\\n3. Hepatitis C: Hepatitis C is caused by the hepatitis C virus (HCV) and is typically spread through blood-to-blood contact, such as sharing needles or receiving a tainted blood transfusion. Hepatitis C is also a chronic infection that can cause long-term liver damage and increase the risk of liver cancer.\\n4. Hepatitis D: Hepatitis D is a rare form of hepatitis that can only infect people who already have hepatitis B. It is caused by the hepatitis D virus (HD  \n",
       "156                                                                                                                                                                                                                                                                                        Thank you for your question! The liver is a vital organ that performs many essential functions in the body. Here are the primary functions of the liver:\\n\\n1. Detoxification: The liver helps remove harmful substances from the body by breaking down and eliminating toxins such as alcohol, drugs, and environmental pollutants.\\n2. Metabolism: The liver converts nutrients from food into energy and stores it for later use. It also helps regulate blood sugar levels and maintain healthy levels of fat and cholesterol in the blood.\\n3. Production of bile: The liver produces bile, a digestive fluid that helps break down fats and absorbs fat-soluble vitamins.\\n4. Production of proteins: The liver produces many proteins that are necessary for blood clotting, immune function, and other bodily processes.\\n5. Storage of glycogen: The liver stores glycogen, a complex carbohydrate that can be converted into glucose for energy.\\n6. Regulation of hormones: The liver helps regulate hormone levels in the body by breaking down and eliminating excess hormones.\\n7. Filtration of blood: The liver helps filter the blood, removing waste products and toxins from the bloodstream and sending them to the kidneys for excretion.\\n\\nI hope this information helps! If you have any further questions, please don't hesitate to ask.  \n",
       "157                                                                                                                                     Thank you for your question! I'm here to help you understand how anesthesia works in a safe and respectful manner.\\nAnesthesia is a medical treatment that is used to numb a patient's body, usually before surgery or other medical procedures, to prevent pain and discomfort. There are different types of anesthesia, including general anesthesia, regional anesthesia, and local anesthesia.\\nGeneral anesthesia is a type of anesthesia that causes a person to become unconscious and unaware of their surroundings. This type of anesthesia is usually administered through inhalation or intravenous (IV) medication. Regional anesthesia is used to numb a specific part of the body, such as a limb, and can be administered through injections or nerve blocks. Local anesthesia is used to numb a smaller area of the body, such as a cut or wound, and is usually administered through injections or topical applications.\\nIt's important to note that anesthesia is a complex medical treatment that requires careful consideration and monitoring by trained medical professionals. While anesthesia can be very effective in preventing pain and discomfort, it can also have potential risks and side effects, such as allergic reactions, respiratory problems, and post-operative nausea and vomiting.\\nIf you have any further questions about anesthesia, I would be happy to help answer them in a safe and respectful manner. Please let me know if there's anything else I can help with!  \n",
       "158                                                                                                                                                                                                                                                                                                                                                                                                                                                         Thank you for reaching out with your question. I'm here to help you in a safe and responsible manner.\\nA stroke is a serious medical condition that occurs when the blood supply to the brain is interrupted or reduced, depriving the brain of oxygen and nutrients. The symptoms of a stroke can vary depending on the location and severity of the interruption in blood flow, but common signs include:\\n1. Sudden weakness or numbness in the face, arm, or leg on one side of the body.\\n2. Sudden confusion or trouble speaking or understanding speech.\\n3. Sudden trouble seeing in one or both eyes.\\n4. Sudden trouble walking or maintaining balance.\\n5. Sudden severe headache with no known cause.\\n\\nIt's important to note that not all strokes present with the same symptoms, and some people may experience only a few of these signs. If you or someone you know is experiencing any of these symptoms, it's crucial to seek medical attention immediately, as timely treatment can greatly improve the chances of recovery.\\nIf you have any further questions or concerns, please feel free to ask, and I will do my best to assist you in a safe and responsible manner.  \n",
       "159   Hello! I'm here to help you with your question. However, I must inform you that the concept of \"color blindness\" is not a scientifically accurate term. Color blindness is actually a term used to describe a group of genetic disorders that affect the retina and result in difficulty distinguishing certain colors. These disorders are usually inherited and can affect one or both eyes.\\nThe most common form of color blindness is red-green color blindness, which is caused by a mutation in a gene that affects the retina's ability to detect red and green light. This mutation can make it difficult for people with color blindness to distinguish between these two colors, as well as similar shades of yellow and blue.\\nOther forms of color blindness include total color blindness, which is a rare condition where a person is unable to see any colors, and blue-yellow color blindness, which is a less common form of color blindness that affects the ability to distinguish between blue and yellow.\\nIt's important to note that color blindness is not a result of a person's vision being \"broken\" or \"impaired,\" but rather a genetic variation that affects the way the retina processes color information. People with color blindness may have difficulty with certain tasks, such as color-based puzzles or jobs that require color discrimination, but they are otherwise able to see and interpret colors in the same way as people without color blindness.\\nI hope this information helps clarify the genetics of color blindness. If you have any further questions or concerns, please don't hesitate to ask!  \n",
       "\n",
       "[160 rows x 2 columns]"
      ]
     },
     "execution_count": 27,
     "metadata": {},
     "output_type": "execute_result"
    }
   ],
   "source": [
    "llama2_res"
   ]
  },
  {
   "cell_type": "code",
   "execution_count": 8,
   "id": "f8e33563-2630-46f5-8f98-1e715ce4afed",
   "metadata": {},
   "outputs": [
    {
     "data": {
      "text/html": [
       "<div>\n",
       "<style scoped>\n",
       "    .dataframe tbody tr th:only-of-type {\n",
       "        vertical-align: middle;\n",
       "    }\n",
       "\n",
       "    .dataframe tbody tr th {\n",
       "        vertical-align: top;\n",
       "    }\n",
       "\n",
       "    .dataframe thead th {\n",
       "        text-align: right;\n",
       "    }\n",
       "</style>\n",
       "<table border=\"1\" class=\"dataframe\">\n",
       "  <thead>\n",
       "    <tr style=\"text-align: right;\">\n",
       "      <th></th>\n",
       "      <th>question</th>\n",
       "      <th>category</th>\n",
       "    </tr>\n",
       "  </thead>\n",
       "  <tbody>\n",
       "    <tr>\n",
       "      <th>0</th>\n",
       "      <td>I've been diagnosed with celiac disease. Can y...</td>\n",
       "      <td>diagnosis</td>\n",
       "    </tr>\n",
       "    <tr>\n",
       "      <th>1</th>\n",
       "      <td>My doctor said I have fibromyalgia. What does ...</td>\n",
       "      <td>diagnosis</td>\n",
       "    </tr>\n",
       "    <tr>\n",
       "      <th>2</th>\n",
       "      <td>I've been diagnosed with Hashimoto's disease. ...</td>\n",
       "      <td>diagnosis</td>\n",
       "    </tr>\n",
       "    <tr>\n",
       "      <th>3</th>\n",
       "      <td>I was told I have polycystic ovary syndrome. W...</td>\n",
       "      <td>diagnosis</td>\n",
       "    </tr>\n",
       "    <tr>\n",
       "      <th>4</th>\n",
       "      <td>I've been told I have diverticulitis. Can you ...</td>\n",
       "      <td>diagnosis</td>\n",
       "    </tr>\n",
       "    <tr>\n",
       "      <th>...</th>\n",
       "      <td>...</td>\n",
       "      <td>...</td>\n",
       "    </tr>\n",
       "    <tr>\n",
       "      <th>155</th>\n",
       "      <td>What are the various forms of hepatitis, and h...</td>\n",
       "      <td>general-health</td>\n",
       "    </tr>\n",
       "    <tr>\n",
       "      <th>156</th>\n",
       "      <td>What are the primary functions of the liver?</td>\n",
       "      <td>general-health</td>\n",
       "    </tr>\n",
       "    <tr>\n",
       "      <th>157</th>\n",
       "      <td>How does anesthesia work?</td>\n",
       "      <td>general-health</td>\n",
       "    </tr>\n",
       "    <tr>\n",
       "      <th>158</th>\n",
       "      <td>What are the symptoms of a stroke?</td>\n",
       "      <td>general-health</td>\n",
       "    </tr>\n",
       "    <tr>\n",
       "      <th>159</th>\n",
       "      <td>Can you explain the genetics of color blindness?</td>\n",
       "      <td>general-health</td>\n",
       "    </tr>\n",
       "  </tbody>\n",
       "</table>\n",
       "<p>160 rows × 2 columns</p>\n",
       "</div>"
      ],
      "text/plain": [
       "                                              question        category\n",
       "0    I've been diagnosed with celiac disease. Can y...       diagnosis\n",
       "1    My doctor said I have fibromyalgia. What does ...       diagnosis\n",
       "2    I've been diagnosed with Hashimoto's disease. ...       diagnosis\n",
       "3    I was told I have polycystic ovary syndrome. W...       diagnosis\n",
       "4    I've been told I have diverticulitis. Can you ...       diagnosis\n",
       "..                                                 ...             ...\n",
       "155  What are the various forms of hepatitis, and h...  general-health\n",
       "156       What are the primary functions of the liver?  general-health\n",
       "157                          How does anesthesia work?  general-health\n",
       "158                 What are the symptoms of a stroke?  general-health\n",
       "159   Can you explain the genetics of color blindness?  general-health\n",
       "\n",
       "[160 rows x 2 columns]"
      ]
     },
     "execution_count": 8,
     "metadata": {},
     "output_type": "execute_result"
    }
   ],
   "source": [
    "patient_df = pd.read_csv(\"./data/patient_questions.csv\")\n",
    "patient_df"
   ]
  },
  {
   "cell_type": "code",
   "execution_count": 23,
   "id": "707bfdb3-e6fd-4291-9247-279b16d07137",
   "metadata": {
    "tags": []
   },
   "outputs": [
    {
     "data": {
      "text/plain": [
       "llama2-answer     Thank you for your question! I'm here to help you understand how anesthesia works in a safe and respectful manner.\\nAnesthesia is a medical treatment that is used to numb a patient's body, usually before surgery or other medical procedures, to prevent pain and discomfort. There are different types of anesthesia, including general anesthesia, regional anesthesia, and local anesthesia.\\nGeneral anesthesia is a type of anesthesia that causes a person to become unconscious and unaware of their surroundings. This type of anesthesia is usually administered through inhalation or intravenous (IV) medication. Regional anesthesia is used to numb a specific part of the body, such as a limb, and can be administered through injections or nerve blocks. Local anesthesia is used to numb a smaller area of the body, such as a cut or wound, and is usually administered through injections or topical applications.\\nIt's important to note that anesthesia is a complex medical treatment that requires careful consideration and monitoring by trained medical professionals. While anesthesia can be very effective in preventing pain and discomfort, it can also have potential risks and side effects, such as allergic reactions, respiratory problems, and post-operative nausea and vomiting.\\nIf you have any further questions about anesthesia, I would be happy to help answer them in a safe and respectful manner. Please let me know if there's anything else I can help with!\n",
       "Name: 157, dtype: object"
      ]
     },
     "execution_count": 23,
     "metadata": {},
     "output_type": "execute_result"
    }
   ],
   "source": [
    "# llama2_res.iloc[0:160]\n",
    "llama2_res.iloc[157]"
   ]
  },
  {
   "cell_type": "code",
   "execution_count": 20,
   "id": "c55b8548-d2b9-4f9a-9e38-62158d76cbec",
   "metadata": {
    "tags": []
   },
   "outputs": [
    {
     "data": {
      "text/plain": [
       "question    Can you explain the genetics of color blindness?\n",
       "category                                      general-health\n",
       "Name: 159, dtype: object"
      ]
     },
     "execution_count": 20,
     "metadata": {},
     "output_type": "execute_result"
    }
   ],
   "source": [
    "patient_df.loc[159]"
   ]
  },
  {
   "cell_type": "code",
   "execution_count": null,
   "id": "b7057191-8fc9-47f3-8328-0edb8761240f",
   "metadata": {},
   "outputs": [],
   "source": []
  }
 ],
 "metadata": {
  "kernelspec": {
   "display_name": "Python 3 (ipykernel)",
   "language": "python",
   "name": "python3"
  },
  "language_info": {
   "codemirror_mode": {
    "name": "ipython",
    "version": 3
   },
   "file_extension": ".py",
   "mimetype": "text/x-python",
   "name": "python",
   "nbconvert_exporter": "python",
   "pygments_lexer": "ipython3",
   "version": "3.11.4"
  }
 },
 "nbformat": 4,
 "nbformat_minor": 5
}
